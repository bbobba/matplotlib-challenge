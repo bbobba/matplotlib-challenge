{
 "cells": [
  {
   "cell_type": "markdown",
   "metadata": {},
   "source": [
    "### Pyber Data Analysis\n",
    "\n",
    "##### Purpose:\n",
    "\n",
    "##### Datasets:\n",
    "* data/city_data.csv\n",
    "* data/ride_data.csv\n",
    "\n",
    "##### Observable Trends:\n",
    "* \n",
    "\n",
    "* \n",
    "\n",
    "* \n",
    "-----"
   ]
  },
  {
   "cell_type": "code",
   "execution_count": 1,
   "metadata": {
    "collapsed": true
   },
   "outputs": [],
   "source": [
    "%matplotlib inline\n",
    "\n",
    "# Dependencies and Setup\n",
    "import matplotlib.pyplot as plt\n",
    "import pandas as pd\n",
    "import numpy as np\n",
    "\n",
    "# import seaborn as sns; sns.set()\n",
    "\n",
    "# import plotly.plotly as py\n",
    "# import plotly.tools as tls\n",
    "\n",
    "import os\n",
    "import csv"
   ]
  },
  {
   "cell_type": "code",
   "execution_count": 2,
   "metadata": {
    "collapsed": true
   },
   "outputs": [],
   "source": [
    "# Set paths for data files\n",
    "city_data_to_load = os.path.join('data', 'city_data.csv')\n",
    "ride_data_to_load = os.path.join('data', 'ride_data.csv')\n",
    "\n",
    "# Read the City and Ride Data\n",
    "city_df = pd.read_csv(city_data_to_load)\n",
    "ride_df = pd.read_csv(ride_data_to_load)"
   ]
  },
  {
   "cell_type": "code",
   "execution_count": 3,
   "metadata": {},
   "outputs": [
    {
     "data": {
      "text/html": [
       "<div>\n",
       "<style scoped>\n",
       "    .dataframe tbody tr th:only-of-type {\n",
       "        vertical-align: middle;\n",
       "    }\n",
       "\n",
       "    .dataframe tbody tr th {\n",
       "        vertical-align: top;\n",
       "    }\n",
       "\n",
       "    .dataframe thead th {\n",
       "        text-align: right;\n",
       "    }\n",
       "</style>\n",
       "<table border=\"1\" class=\"dataframe\">\n",
       "  <thead>\n",
       "    <tr style=\"text-align: right;\">\n",
       "      <th></th>\n",
       "      <th>city</th>\n",
       "      <th>driver_count</th>\n",
       "      <th>type</th>\n",
       "    </tr>\n",
       "  </thead>\n",
       "  <tbody>\n",
       "    <tr>\n",
       "      <th>0</th>\n",
       "      <td>Richardfort</td>\n",
       "      <td>38</td>\n",
       "      <td>Urban</td>\n",
       "    </tr>\n",
       "    <tr>\n",
       "      <th>1</th>\n",
       "      <td>Williamsstad</td>\n",
       "      <td>59</td>\n",
       "      <td>Urban</td>\n",
       "    </tr>\n",
       "    <tr>\n",
       "      <th>2</th>\n",
       "      <td>Port Angela</td>\n",
       "      <td>67</td>\n",
       "      <td>Urban</td>\n",
       "    </tr>\n",
       "    <tr>\n",
       "      <th>3</th>\n",
       "      <td>Rodneyfort</td>\n",
       "      <td>34</td>\n",
       "      <td>Urban</td>\n",
       "    </tr>\n",
       "    <tr>\n",
       "      <th>4</th>\n",
       "      <td>West Robert</td>\n",
       "      <td>39</td>\n",
       "      <td>Urban</td>\n",
       "    </tr>\n",
       "  </tbody>\n",
       "</table>\n",
       "</div>"
      ],
      "text/plain": [
       "           city  driver_count   type\n",
       "0   Richardfort            38  Urban\n",
       "1  Williamsstad            59  Urban\n",
       "2   Port Angela            67  Urban\n",
       "3    Rodneyfort            34  Urban\n",
       "4   West Robert            39  Urban"
      ]
     },
     "execution_count": 3,
     "metadata": {},
     "output_type": "execute_result"
    }
   ],
   "source": [
    "# Display city and ride tables for preview\n",
    "# city_df.head()\n"
   ]
  },
  {
   "cell_type": "code",
   "execution_count": 4,
   "metadata": {
    "collapsed": true
   },
   "outputs": [],
   "source": [
    "# ride_df.head()"
   ]
  },
  {
   "cell_type": "code",
   "execution_count": 5,
   "metadata": {},
   "outputs": [
    {
     "data": {
      "text/html": [
       "<div>\n",
       "<style scoped>\n",
       "    .dataframe tbody tr th:only-of-type {\n",
       "        vertical-align: middle;\n",
       "    }\n",
       "\n",
       "    .dataframe tbody tr th {\n",
       "        vertical-align: top;\n",
       "    }\n",
       "\n",
       "    .dataframe thead th {\n",
       "        text-align: right;\n",
       "    }\n",
       "</style>\n",
       "<table border=\"1\" class=\"dataframe\">\n",
       "  <thead>\n",
       "    <tr style=\"text-align: right;\">\n",
       "      <th></th>\n",
       "      <th>city</th>\n",
       "      <th>driver_count</th>\n",
       "      <th>type</th>\n",
       "      <th>date</th>\n",
       "      <th>fare</th>\n",
       "      <th>ride_id</th>\n",
       "    </tr>\n",
       "  </thead>\n",
       "  <tbody>\n",
       "    <tr>\n",
       "      <th>0</th>\n",
       "      <td>Richardfort</td>\n",
       "      <td>38</td>\n",
       "      <td>Urban</td>\n",
       "      <td>2018-02-24 08:40:38</td>\n",
       "      <td>13.93</td>\n",
       "      <td>5628545007794</td>\n",
       "    </tr>\n",
       "    <tr>\n",
       "      <th>1</th>\n",
       "      <td>Richardfort</td>\n",
       "      <td>38</td>\n",
       "      <td>Urban</td>\n",
       "      <td>2018-02-13 12:46:07</td>\n",
       "      <td>14.00</td>\n",
       "      <td>910050116494</td>\n",
       "    </tr>\n",
       "    <tr>\n",
       "      <th>2</th>\n",
       "      <td>Richardfort</td>\n",
       "      <td>38</td>\n",
       "      <td>Urban</td>\n",
       "      <td>2018-02-16 13:52:19</td>\n",
       "      <td>17.92</td>\n",
       "      <td>820639054416</td>\n",
       "    </tr>\n",
       "    <tr>\n",
       "      <th>3</th>\n",
       "      <td>Richardfort</td>\n",
       "      <td>38</td>\n",
       "      <td>Urban</td>\n",
       "      <td>2018-02-01 20:18:28</td>\n",
       "      <td>10.26</td>\n",
       "      <td>9554935945413</td>\n",
       "    </tr>\n",
       "    <tr>\n",
       "      <th>4</th>\n",
       "      <td>Richardfort</td>\n",
       "      <td>38</td>\n",
       "      <td>Urban</td>\n",
       "      <td>2018-04-17 02:26:37</td>\n",
       "      <td>23.00</td>\n",
       "      <td>720020655850</td>\n",
       "    </tr>\n",
       "  </tbody>\n",
       "</table>\n",
       "</div>"
      ],
      "text/plain": [
       "          city  driver_count   type                 date   fare        ride_id\n",
       "0  Richardfort            38  Urban  2018-02-24 08:40:38  13.93  5628545007794\n",
       "1  Richardfort            38  Urban  2018-02-13 12:46:07  14.00   910050116494\n",
       "2  Richardfort            38  Urban  2018-02-16 13:52:19  17.92   820639054416\n",
       "3  Richardfort            38  Urban  2018-02-01 20:18:28  10.26  9554935945413\n",
       "4  Richardfort            38  Urban  2018-04-17 02:26:37  23.00   720020655850"
      ]
     },
     "execution_count": 5,
     "metadata": {},
     "output_type": "execute_result"
    }
   ],
   "source": [
    "# Combine the data into a single dataset (merge the datasets on 'city' so that no data is lost)\n",
    "merged_df = pd.merge(city_df, ride_df, on='city')\n",
    "\n",
    "# Display the data table for preview\n",
    "merged_df.head()"
   ]
  },
  {
   "cell_type": "markdown",
   "metadata": {},
   "source": [
    "## Bubble Plot of Ride Sharing Data\n",
    "Build a Bubble Plot that showcases the relationship between four key variables:\n",
    "* Average fare ($) per city\n",
    "* Total number of rides per city\n",
    "* Total number of drivers per city\n",
    "* City type (urban, suburban, rural)"
   ]
  },
  {
   "cell_type": "code",
   "execution_count": 26,
   "metadata": {},
   "outputs": [],
   "source": [
    "# Groupby city\n",
    "city_groups = merged_df.groupby(['city'])\n",
    "\n",
    "# Basic calculations\n",
    "city_total_fare = city_groups['fare'].sum()\n",
    "city_total_rides = city_groups['ride_id'].count()\n",
    "city_total_drivers = city_groups['driver_count'].count()\n",
    "city_avg_fare = np.round(city_total_fare / city_total_rides, decimals=2)\n",
    "city_type = city_df.set_index('city')['type']"
   ]
  },
  {
   "cell_type": "code",
   "execution_count": 43,
   "metadata": {},
   "outputs": [
    {
     "data": {
      "image/png": "[encoded data removed]",
      "text/plain": [
       "<Figure size 432x288 with 1 Axes>"
      ]
     },
     "metadata": {},
     "output_type": "display_data"
    },
    {
     "data": {
      "text/plain": [
       "<Figure size 432x288 with 0 Axes>"
      ]
     },
     "metadata": {},
     "output_type": "display_data"
    }
   ],
   "source": [
    "# Create summary dataframe using the above values\n",
    "ride_share_df = pd.DataFrame({'Average Fare': city_avg_fare,\n",
    "                              'Total Rides': city_total_rides,\n",
    "                              'Total Drivers': city_total_drivers,\n",
    "                              'City Type': city_type})\n",
    "\n",
    "urban = ride_share_df.loc[ride_share_df['City Type'] == 'Urban']\n",
    "rural = ride_share_df.loc[ride_share_df['City Type'] == 'Rural']\n",
    "suburban = ride_share_df.loc[ride_share_df['City Type'] == 'Suburban']\n",
    "\n",
    "# Build the scatter plot for each city type\n",
    "marker = 'o'\n",
    "edgecolors ='gray'\n",
    "alpha = 0.5\n",
    "linewidths = 2\n",
    "\n",
    "plt.scatter(urban['Total Rides'], urban['Average Fare'], marker=marker, facecolors='lightcoral', edgecolors=edgecolors, s=urban['Total Drivers']*25, label=\"Urban\", alpha=alpha, linewidths=linewidths)\n",
    "plt.scatter(rural['Total Rides'], rural['Average Fare'], marker=marker, facecolors='gold', edgecolors=edgecolors, s=rural['Total Drivers']*25, label=\"Rural\", alpha=alpha, linewidths=linewidths)\n",
    "plt.scatter(suburban['Total Rides'], suburban['Average Fare'], marker=marker, facecolors='lightskyblue', edgecolors=edgecolors, s=suburban['Total Drivers']*25, label=\"Suburban\", alpha=alpha, linewidths=linewidths)\n",
    "\n",
    "# Incorporate the other graph properties\n",
    "plt.title('Pyber Ride Sharing Data (2016)')\n",
    "plt.xlabel('Total Number of Rides (Per City)')\n",
    "plt.ylabel('Average Fare ($)')\n",
    "plt.grid(b = True, axis = 'both')\n",
    "\n",
    "# Place a legend on the chart in what matplotlib believes to be the \"best\" location\n",
    "plt.legend(loc='best', markerscale = .5, title='City Types')\n",
    "\n",
    "# Incorporate a text label regarding circle size\n",
    "plt.text(45, 40, 'Note: Circle size correlates with driver count per city')\n",
    "\n",
    "# Show and save figure\n",
    "plt.show()\n",
    "plt.savefig('pyber_bubble_plot.png')"
   ]
  },
  {
   "cell_type": "markdown",
   "metadata": {},
   "source": [
    "## Total Fares by City Type"
   ]
  },
  {
   "cell_type": "code",
   "execution_count": 15,
   "metadata": {
    "collapsed": true
   },
   "outputs": [],
   "source": [
    "# Calculate Type Percents\n",
    "\n",
    "\n"
   ]
  },
  {
   "cell_type": "code",
   "execution_count": 40,
   "metadata": {},
   "outputs": [
    {
     "ename": "NameError",
     "evalue": "name 'sizes' is not defined",
     "output_type": "error",
     "traceback": [
      "\u001b[0;31m---------------------------------------------------------------------------\u001b[0m",
      "\u001b[0;31mNameError\u001b[0m                                 Traceback (most recent call last)",
      "\u001b[0;32m<ipython-input-40-fe949ed0ca58>\u001b[0m in \u001b[0;36m<module>\u001b[0;34m()\u001b[0m\n\u001b[1;32m     18\u001b[0m \u001b[0;34m\u001b[0m\u001b[0m\n\u001b[1;32m     19\u001b[0m \u001b[0;31m# Create the pie chart based upon the values above\u001b[0m\u001b[0;34m\u001b[0m\u001b[0;34m\u001b[0m\u001b[0;34m\u001b[0m\u001b[0m\n\u001b[0;32m---> 20\u001b[0;31m plt.pie(sizes, explode=explode, labels=labels, colors=colors,\n\u001b[0m\u001b[1;32m     21\u001b[0m         autopct=\"%1.1f%%\", shadow=True, startangle=140)\n",
      "\u001b[0;31mNameError\u001b[0m: name 'sizes' is not defined"
     ]
    }
   ],
   "source": [
    "# NOTES: \n",
    "# Experiment with shadow, startangle, explosion\n",
    "# Starter code below, will update after calculations are complete\n",
    "\n",
    "# Build Pie Chart\n",
    "\n",
    "# Labels for the sections\n",
    "labels = ['Urban', 'Rural', 'Suburban']\n",
    "\n",
    "# The values of each section\n",
    "# sizes = [..., ..., ...]\n",
    "\n",
    "# The colors of each section\n",
    "colors = ['gold', 'lightcoral', 'lightskyblue']\n",
    "\n",
    "# Tell matplotlib to separate the \"Python\" section from the others\n",
    "explode = (0.1, 0, 0, 0)\n",
    "\n",
    "# Create the pie chart based upon the values above\n",
    "plt.pie(sizes, explode=explode, labels=labels, colors=colors,\n",
    "        autopct=\"%1.1f%%\", shadow=True, startangle=140)"
   ]
  },
  {
   "cell_type": "code",
   "execution_count": null,
   "metadata": {
    "collapsed": true
   },
   "outputs": [],
   "source": [
    "# Save Figure\n",
    "plt.savefig('total-fares-by-city-type')\n",
    "\n",
    "# Show Figure\n",
    "plt.show()"
   ]
  },
  {
   "cell_type": "code",
   "execution_count": null,
   "metadata": {
    "collapsed": true
   },
   "outputs": [],
   "source": [
    "# #  @TODO:\n",
    "\n",
    "# # Calculate Type Percents\n",
    "# fares_city = merged_df.groupby(['type'])['fare'].sum()\n",
    "# index = fares_city.index\n",
    "# # Build Pie Chart\n",
    "# colors = [\"gold\", \"lightskyblue\", \"lightcoral\"]\n",
    "# explode = (0, 0, 0.1)\n",
    "# plt.pie(fares_city, labels = index, autopct= \"%0.1f%%\", colors= colors,\n",
    "#         explode= explode, shadow= True, startangle= 150)\n",
    "# plt.axis(\"equal\")\n",
    "# plt.title(\"% of Total Fares by City Type\")\n",
    "\n",
    "# # Save Figure\n",
    "# plt.savefig(\"pyber_fares_chart\")\n"
   ]
  },
  {
   "cell_type": "markdown",
   "metadata": {},
   "source": [
    "## Total Rides by City Type"
   ]
  },
  {
   "cell_type": "code",
   "execution_count": null,
   "metadata": {
    "collapsed": true
   },
   "outputs": [],
   "source": [
    "# Calculate Ride Percents\n",
    "\n",
    "\n"
   ]
  },
  {
   "cell_type": "code",
   "execution_count": null,
   "metadata": {
    "collapsed": true
   },
   "outputs": [],
   "source": [
    "# NOTES: \n",
    "# Experiment with shadow, startangle, explosion\n",
    "# Starter code below, will update after calculations are complete\n",
    "\n",
    "# Build Pie Chart\n",
    "\n",
    "# Labels for the sections\n",
    "labels = ['Urban', 'Rural', 'Suburban']\n",
    "\n",
    "# The values of each section\n",
    "# sizes = [..., ..., ...]\n",
    "\n",
    "# The colors of each section\n",
    "colors = ['gold', 'lightcoral', 'lightskyblue']\n",
    "\n",
    "# Tell matplotlib to separate the \"Python\" section from the others\n",
    "explode = (0.1, 0, 0, 0)\n",
    "\n",
    "# Create the pie chart based upon the values above\n",
    "plt.pie(sizes, explode=explode, labels=labels, colors=colors,\n",
    "        autopct=\"%1.1f%%\", shadow=True, startangle=140)\n"
   ]
  },
  {
   "cell_type": "code",
   "execution_count": null,
   "metadata": {
    "collapsed": true
   },
   "outputs": [],
   "source": [
    "# Save Figure\n",
    "plt.savefig('total-rides-by-city-type')\n",
    "\n",
    "# Show Figure\n",
    "plt.show()"
   ]
  },
  {
   "cell_type": "code",
   "execution_count": null,
   "metadata": {
    "collapsed": true
   },
   "outputs": [],
   "source": [
    "# # @TODO:\n",
    "\n",
    "# # Calculate Ride Percents\n",
    "# count_type = merged_df.groupby(['type'])['ride_id'].count()\n",
    "# index = count_type.index\n",
    "\n",
    "# # Build Pie Chart\n",
    "# colors = [\"gold\", \"lightskyblue\", \"lightcoral\"]\n",
    "# explode = (0, 0, 0.1)\n",
    "# plt.pie(count_type, labels = index, autopct= \"%0.1f%%\", colors= colors,\n",
    "#         explode= explode, shadow= True, startangle= 150)\n",
    "# plt.axis(\"equal\")\n",
    "# plt.title(\"% of Total Rides by City Type\")\n",
    "# # Save Figure\n",
    "# plt.savefig(\"pyber_rides_chart\")"
   ]
  },
  {
   "cell_type": "markdown",
   "metadata": {},
   "source": [
    "## Total Drivers by City Type"
   ]
  },
  {
   "cell_type": "code",
   "execution_count": null,
   "metadata": {
    "collapsed": true
   },
   "outputs": [],
   "source": [
    "# Calculate Driver Percents\n"
   ]
  },
  {
   "cell_type": "code",
   "execution_count": null,
   "metadata": {
    "collapsed": true
   },
   "outputs": [],
   "source": [
    "# NOTES: \n",
    "# Experiment with shadow, startangle, explosion\n",
    "# Starter code below, will update after calculations are complete\n",
    "\n",
    "# Build Pie Chart\n",
    "\n",
    "# Labels for the sections\n",
    "labels = ['Urban', 'Rural', 'Suburban']\n",
    "\n",
    "# The values of each section\n",
    "# sizes = [..., ..., ...]\n",
    "\n",
    "# The colors of each section\n",
    "colors = ['gold', 'lightcoral', 'lightskyblue']\n",
    "\n",
    "# Tell matplotlib to separate the \"Python\" section from the others\n",
    "explode = (0.1, 0, 0, 0)\n",
    "\n",
    "# Create the pie chart based upon the values above\n",
    "plt.pie(sizes, explode=explode, labels=labels, colors=colors,\n",
    "        autopct=\"%1.1f%%\", shadow=True, startangle=140)\n",
    "\n",
    "# Save Figure\n",
    "plt.savefig('drivers-by-city-type')"
   ]
  },
  {
   "cell_type": "code",
   "execution_count": null,
   "metadata": {
    "collapsed": true,
    "scrolled": true
   },
   "outputs": [],
   "source": [
    "# Show Figure\n",
    "plt.show()"
   ]
  },
  {
   "cell_type": "code",
   "execution_count": null,
   "metadata": {
    "collapsed": true
   },
   "outputs": [],
   "source": [
    "# # @TODO:\n",
    "\n",
    "# # Calculate Driver Percents\n",
    "# drivers_type = merged_df.groupby(['type'])['driver_count'].mean()\n",
    "# index = drivers_type.index\n",
    "\n",
    "# # Build Pie Chart\n",
    "# colors = [\"gold\", \"lightskyblue\", \"lightcoral\"]\n",
    "# explode = (0, 0, 0.1)\n",
    "# plt.pie(drivers_type, labels = index, autopct= \"%0.1f%%\", colors= colors,\n",
    "#         explode= explode, shadow= True, startangle= 150)\n",
    "# plt.axis(\"equal\")\n",
    "# plt.title(\"% of Total Drivers by City Type\")\n",
    "# drivers_type\n",
    "# # Save Figure\n",
    "# plt.savefig(\"pyber_drivers_chart\")"
   ]
  }
 ],
 "metadata": {
  "anaconda-cloud": {},
  "kernelspec": {
   "display_name": "Python 3",
   "language": "python",
   "name": "python3"
  },
  "language_info": {
   "codemirror_mode": {
    "name": "ipython",
    "version": 3
   },
   "file_extension": ".py",
   "mimetype": "text/x-python",
   "name": "python",
   "nbconvert_exporter": "python",
   "pygments_lexer": "ipython3",
   "version": "3.6.7"
  }
 },
 "nbformat": 4,
 "nbformat_minor": 2
}
